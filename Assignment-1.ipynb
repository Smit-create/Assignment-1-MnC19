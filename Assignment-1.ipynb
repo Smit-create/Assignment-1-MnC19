{
 "cells": [
  {
   "cell_type": "markdown",
   "metadata": {},
   "source": [
    "# MnC-19\n",
    "## Get Ready for the Python Tour!"
   ]
  },
  {
   "cell_type": "markdown",
   "metadata": {},
   "source": [
    "# Assignment-1 Python\n"
   ]
  },
  {
   "cell_type": "markdown",
   "metadata": {},
   "source": [
    "This is the first assignment on basic python!\n",
    "<br> But before we go forward, let's first talk about **IPython** is.\n",
    "<ol>\n",
    "    <li> <strong>Python</strong> - an interpreted programming language written by Guido Van Rossum.</li>\n",
    "    <li> <strong>IPython</strong> - an interactive shell for python. This just means that it is an alternative way to interact with python. It offers a lot more features than the default python shell which you can explore online. Some of these include code autocompletion, object inspection etc.</li>\n",
    "    <li> <strong>Ipython Notebook</strong> - built on top of IPython, it is graphical user interface to IPython. In it you can add a lot of stuff apart from just code: things like graphs, plots, responsive elements. Moreoever it runs on a web interface, like your web browser.</li>\n",
    "    <li> <strong>Jupyter Notebook</strong> It is an upgrade to the IPython notebook built to be language independent and offer support for other languages. It's python variant is what you are probably using right now!</li>\n"
   ]
  },
  {
   "cell_type": "markdown",
   "metadata": {},
   "source": [
    "Now let us look at a few things which you can do with Jupyter:\n",
    "<br> These individual text containers are called cells. They make up a Jupyter notebook!"
   ]
  },
  {
   "cell_type": "code",
   "execution_count": 1,
   "metadata": {},
   "outputs": [
    {
     "name": "stdout",
     "output_type": "stream",
     "text": [
      "Hello World! (This is an output cell. The code cell above produces this output cell)\n"
     ]
    }
   ],
   "source": [
    "#This is a code cell, these can produce output cells if you produce an output in your code.\n",
    "#For example:\n",
    "print(\"Hello World! (This is an output cell. The code cell above produces this output cell)\")"
   ]
  },
  {
   "cell_type": "markdown",
   "metadata": {},
   "source": [
    "Things you can add to a jupyter notebook:\n",
    "\n",
    "1. Latex (It is a widely used type-setting language you can use to add mathematical equations to your notebook)\n",
    "\n",
    "<strong><center>[This is a markdown cell -> double-click this cell to see the code behind it; click \"Run\" to run it again]</center></strong>\n",
    "\n",
    "\\begin{equation*}\n",
    "\\left( \\sum_{k=1}^n a_k b_k \\right)^2 \\leq \\left( \\sum_{k=1}^n a_k^2 \\right) \\left( \\sum_{k=1}^n b_k^2 \\right)\n",
    "\\end{equation*}\n"
   ]
  },
  {
   "cell_type": "markdown",
   "metadata": {},
   "source": [
    "\n",
    "2. You can add graphs! Don't worry about the code now, it is just simple code to add a graph!"
   ]
  },
  {
   "cell_type": "code",
   "execution_count": 3,
   "metadata": {},
   "outputs": [
    {
     "data": {
      "image/png": "[encoded data removed]",
      "text/plain": [
       "<Figure size 432x288 with 1 Axes>"
      ]
     },
     "metadata": {
      "needs_background": "light"
     },
     "output_type": "display_data"
    }
   ],
   "source": [
    "# Just a simple code cell to draw a graph in the output cell!\n",
    "import numpy as np\n",
    "import matplotlib.pyplot as plt\n",
    "import pickle\n",
    "x = np.linspace(1,100,1000)\n",
    "plt.plot(x,np.log(x))\n",
    "plt.title(\"y=log(x)\")\n",
    "plt.show()"
   ]
  },
  {
   "cell_type": "markdown",
   "metadata": {},
   "source": [
    "3. You can add HTML too!"
   ]
  },
  {
   "cell_type": "code",
   "execution_count": 13,
   "metadata": {},
   "outputs": [
    {
     "data": {
      "text/html": [
       "<html>\n",
       "<marquee><h1> This is an html page</h1></marquee>\n",
       "</html>\n"
      ],
      "text/plain": [
       "<IPython.core.display.HTML object>"
      ]
     },
     "metadata": {},
     "output_type": "display_data"
    }
   ],
   "source": [
    "%%HTML\n",
    "<html>\n",
    "<marquee><h1> This is an html page</h1></marquee>\n",
    "</html>"
   ]
  },
  {
   "cell_type": "markdown",
   "metadata": {},
   "source": [
    "There are many more things that you'll learn along the way!\n",
    "<br> Now let's get to Python!\n",
    "<br> Some of the problems below have a solution attached to it which can be opened by **single-clicking** on the the <font color=green>green text! </font>\n",
    "<br><font color=maroon><strong>But please try to code the solutions yourself first. The solutions are mostly one-liners which will teach you how to write concise and useful code and some extra features of python. Again, the solutions have been written to use things that you might not know and hence learn. But please try to write  the code yourself first</strong></font>"
   ]
  },
  {
   "cell_type": "markdown",
   "metadata": {},
   "source": [
    "## Simple Arithmetic\n",
    "Some available operators : $+,-,/,//,\\%,**$"
   ]
  },
  {
   "cell_type": "markdown",
   "metadata": {},
   "source": [
    "### $**$ Operator for exponentiation\n"
   ]
  },
  {
   "cell_type": "code",
   "execution_count": null,
   "metadata": {},
   "outputs": [],
   "source": [
    "a = 5; b = 2\n",
    "print(a**b)"
   ]
  },
  {
   "cell_type": "markdown",
   "metadata": {},
   "source": [
    "### Difference between '/' and '//'"
   ]
  },
  {
   "cell_type": "code",
   "execution_count": null,
   "metadata": {},
   "outputs": [],
   "source": [
    "a = 7; b = 2\n",
    "print(a/b)  #Normal division\n",
    "print(a//b) #Integral division. rounds off the quotient to the nearest integer less than the ans"
   ]
  },
  {
   "cell_type": "markdown",
   "metadata": {},
   "source": [
    "<strong><h3>Ques: Given a number n, find the sum of squares of all its divisors</h3></strong>\n",
    "<br> Eg: if n=6, $answer = 1^2 + 2^2 + 3^2 +6^2 = 50$"
   ]
  },
  {
   "cell_type": "code",
   "execution_count": 6,
   "metadata": {},
   "outputs": [],
   "source": [
    "def sum_of_squares_of_divisors(n):\n",
    "    ans=0\n",
    "    for i in range(1, n+1):\n",
    "        if n%i == 0:\n",
    "            ans += i**2\n",
    "    return ans"
   ]
  },
  {
   "cell_type": "code",
   "execution_count": 10,
   "metadata": {},
   "outputs": [
    {
     "ename": "SyntaxError",
     "evalue": "invalid syntax (<ipython-input-10-953f07046124>, line 1)",
     "output_type": "error",
     "traceback": [
      "\u001b[1;36m  File \u001b[1;32m\"<ipython-input-10-953f07046124>\"\u001b[1;36m, line \u001b[1;32m1\u001b[0m\n\u001b[1;33m    Test your code here:\u001b[0m\n\u001b[1;37m            ^\u001b[0m\n\u001b[1;31mSyntaxError\u001b[0m\u001b[1;31m:\u001b[0m invalid syntax\n"
     ]
    }
   ],
   "source": [
    "Test your code here:"
   ]
  },
  {
   "cell_type": "code",
   "execution_count": 7,
   "metadata": {},
   "outputs": [
    {
     "name": "stdout",
     "output_type": "stream",
     "text": [
      "50\n",
      "1173640\n",
      "1042442\n"
     ]
    }
   ],
   "source": [
    "print(sum_of_squares_of_divisors(6))\n",
    "# Expected Answer = 50\n",
    "print(sum_of_squares_of_divisors(1023))\n",
    "# Expected Answer = 1173640\n",
    "print(sum_of_squares_of_divisors(1021))\n",
    "# Expected Answer = 1042442"
   ]
  },
  {
   "cell_type": "markdown",
   "metadata": {},
   "source": [
    "### Ques: Given a string s, check if it is a palindrome\n",
    "A string s is a palindrome if it reads the same way forwards and backwards, return True or False\n",
    "<br> For eg: ABCBA and ABCCBA are both palindromes\n",
    "<br> ABCDE is not"
   ]
  },
  {
   "cell_type": "code",
   "execution_count": 1,
   "metadata": {},
   "outputs": [],
   "source": [
    "def Is_palindrome(s):\n",
    "    # Write your code here\n",
    "    k = reversed( s )\n",
    "    if list(s)==list(k):\n",
    "        return True\n",
    "\n",
    "    return False"
   ]
  },
  {
   "cell_type": "markdown",
   "metadata": {},
   "source": [
    "Check your code here:"
   ]
  },
  {
   "cell_type": "code",
   "execution_count": 2,
   "metadata": {},
   "outputs": [
    {
     "name": "stdout",
     "output_type": "stream",
     "text": [
      "False\n",
      "True\n"
     ]
    }
   ],
   "source": [
    "print(Is_palindrome('hello'))\n",
    "# ANS- False\n",
    "print(Is_palindrome('helleh'))\n",
    "# ANS- True"
   ]
  },
  {
   "cell_type": "markdown",
   "metadata": {},
   "source": [
    "\n",
    "<details>\n",
    "    <summary><h4 style=\"color:green\">Try yourself first! [Click here] to see solution!</h4></summary>\n",
    "<p>\n",
    "\n",
    "The shortest way to do the above is:\n",
    "\n",
    "```python\n",
    "    def Is_palindrome(s):\n",
    "        return s == s[::-1]\n",
    "```\n",
    "To learn more: https://www.geeksforgeeks.org/string-slicing-in-python/\n",
    "</p>\n",
    "</details>  \n"
   ]
  },
  {
   "cell_type": "markdown",
   "metadata": {},
   "source": [
    "### Ques: Given two lists of integers of the same length, return a 3rd list containing pair-wise maximum of elements in the same indices in both the lists.\n",
    "For eg, if $a=\\{a_{1},a_{2},a_{3},a_{4}...a_{n}\\}$\n",
    "and $b=\\{b_{1},b_{2},b_{3},b_{4}...b_{n}\\}$\n",
    "<br> $answer : c=\\{max(a_{1},b_{1}),max(a_{1},b_{1}),max(a_{1},b_{1}),...,max(a_{n},b_{n})\\}$"
   ]
  },
  {
   "cell_type": "code",
   "execution_count": 9,
   "metadata": {},
   "outputs": [],
   "source": [
    "def pairwise_max_of_two_list(list1, list2):\n",
    "    ans = []\n",
    "    # Your code here\n",
    "    n = len(list1)\n",
    "    for i in range(n):\n",
    "        ans.append(max(list1[i], list2[i]))\n",
    "    return ans"
   ]
  },
  {
   "cell_type": "markdown",
   "metadata": {},
   "source": [
    "Check your code here:"
   ]
  },
  {
   "cell_type": "code",
   "execution_count": 10,
   "metadata": {},
   "outputs": [
    {
     "name": "stdout",
     "output_type": "stream",
     "text": [
      "[2, 50]\n",
      "[15, 7, 18]\n",
      "[2, 2, 500, 2311]\n"
     ]
    }
   ],
   "source": [
    "print(pairwise_max_of_two_list([2,18],[1,50]))\n",
    "#Answer: [2, 50]\n",
    "print(pairwise_max_of_two_list([15,2,18],[14,7,15]))\n",
    "#Answer: [15, 7, 18]\n",
    "print(pairwise_max_of_two_list([0,2,180,432],[2,1,500,2311]))\n",
    "#Answer: [2, 2, 500, 2311]"
   ]
  },
  {
   "cell_type": "markdown",
   "metadata": {},
   "source": [
    "\n",
    "<details>\n",
    "    <summary><h4 style=\"color:green\">Try yourself first! [Click here] to see solution!</h4></summary>\n",
    "<p>\n",
    "\n",
    "The shortest way to do the above is:\n",
    "\n",
    "```python\n",
    "    def pairwise_max_of_two_lists(list1,list2):\n",
    "        return [max(a,b) for a,b in zip(list1,list2)]\n",
    "```\n",
    "To learn more: \n",
    "<br> Zip function - https://www.programiz.com/python-programming/methods/built-in/zip\n",
    "<br> List comprehension - https://www.programiz.com/python-programming/list-comprehension\n",
    "</p>\n",
    "</details>  \n"
   ]
  },
  {
   "cell_type": "markdown",
   "metadata": {},
   "source": [
    "### Ques: Given a sentence in a string 's', reverse all of its words individually\n",
    "<br> For eg:\n",
    "<br>**Input**: 'this is a sample sentence'\n",
    "<br>**Output**: 'siht si a elpmas .ecnetnes'"
   ]
  },
  {
   "cell_type": "code",
   "execution_count": 5,
   "metadata": {},
   "outputs": [],
   "source": [
    "def reverse_sentence_wordwise(s):\n",
    "    ans = ''\n",
    "    # Your code here\n",
    "    for word in s.split():\n",
    "        ans += \"\".join(word[::-1])\n",
    "        ans += \" \"\n",
    "    return ans"
   ]
  },
  {
   "cell_type": "markdown",
   "metadata": {},
   "source": [
    "Check your code here:"
   ]
  },
  {
   "cell_type": "code",
   "execution_count": 6,
   "metadata": {},
   "outputs": [
    {
     "name": "stdout",
     "output_type": "stream",
     "text": [
      "this is a sample sentence. \n",
      "MnC is better than CSE \n"
     ]
    }
   ],
   "source": [
    "print(reverse_sentence_wordwise('siht si a elpmas .ecnetnes'))\n",
    "# Answer - 'this is a sample sentence.'\n",
    "print(reverse_sentence_wordwise('CnM si retteb naht ESC'))\n",
    "# Answer - find out yourself xD"
   ]
  },
  {
   "cell_type": "markdown",
   "metadata": {},
   "source": [
    "\n",
    "<details>\n",
    "    <summary><h4 style=\"color:green\">Try yourself first! [Click here] to see solution!</h4></summary>\n",
    "<p>\n",
    "\n",
    "The shortest way to do the above is:\n",
    "\n",
    "```python\n",
    "    def reverse_sentence_wordwise(s):\n",
    "        return ' '.join(word[::-1] for word in s.split(' '))\n",
    "```\n",
    "To learn more: \n",
    "<br> Split and Join : https://www.pitt.edu/~naraehan/python3/split_join.html\n",
    "</p>\n",
    "</details>  \n"
   ]
  },
  {
   "cell_type": "markdown",
   "metadata": {},
   "source": [
    "Some more questions:"
   ]
  },
  {
   "cell_type": "markdown",
   "metadata": {},
   "source": [
    "### Write a Python program to check if an integer is the power of another integer.\n",
    "\n",
    "In other words, given two inputs, `a` and `b`, write a program to check if we can obtain `a` from b<sup>x</sup>, where `x` is some positive integer.\n",
    "\n",
    "Examples:\n",
    "1. 16, 2 : `True`\n",
    "2. 28, 8 : `False`"
   ]
  },
  {
   "cell_type": "code",
   "execution_count": null,
   "metadata": {},
   "outputs": [],
   "source": [
    "def int_pow_check(a, b):\n",
    "    # your code goes here\n",
    "    i = 0\n",
    "    while b ** i <= a:\n",
    "        if b ** i == a:\n",
    "            return True\n",
    "            break\n",
    "        else:\n",
    "            i += 1\n",
    "            continue\n",
    "    else:\n",
    "        return False\n",
    "    "
   ]
  },
  {
   "cell_type": "code",
   "execution_count": null,
   "metadata": {},
   "outputs": [],
   "source": [
    "print(int_pow_check(16, 2))\n",
    "print(int_pow_check(12, 3))"
   ]
  },
  {
   "cell_type": "markdown",
   "metadata": {},
   "source": [
    "#### Expected output:\n",
    "\n",
    "`(True, False)`"
   ]
  },
  {
   "cell_type": "markdown",
   "metadata": {},
   "source": [
    "###  Write a Python program to find missing numbers from a list\n",
    "\n",
    "You are given a list L, which consists of natural numbers and an integer `bound`. Write a program to find all the missing numbers from the list L in the range `[1, bound]`.\n",
    "\n",
    "Examples:\n",
    "1. L=`[1,2,3,4,6,7]`, bound=`7`\n",
    "\n",
    "Output: `[5]`\n",
    "\n",
    "2. L=`[3,4,7,8]`, bound=`9`\n",
    "\n",
    "Output: `[1,2,5,6,9]`"
   ]
  },
  {
   "cell_type": "code",
   "execution_count": 11,
   "metadata": {},
   "outputs": [],
   "source": [
    "def find_missing(l,bound):\n",
    "    # your code goes here\n",
    "    x = list()\n",
    "    for i in range(1,bound+1):\n",
    "        if i not in l:\n",
    "            x.append(i)\n",
    "    return x\n",
    "            "
   ]
  },
  {
   "cell_type": "code",
   "execution_count": 12,
   "metadata": {},
   "outputs": [
    {
     "name": "stdout",
     "output_type": "stream",
     "text": [
      "[1, 5, 7, 8, 9]\n",
      "[5]\n",
      "[1, 4, 5]\n"
     ]
    }
   ],
   "source": [
    "print(find_missing([2,3,4,6], 9))\n",
    "print(find_missing([1,2,3,4,6,7], 7))\n",
    "print(find_missing([2,3], 5))"
   ]
  },
  {
   "cell_type": "markdown",
   "metadata": {},
   "source": [
    "#### Expected Output:\n",
    "\n",
    "`[1,5,7,8,9]\n",
    "[5]\n",
    "[1,4,5]`"
   ]
  },
  {
   "cell_type": "markdown",
   "metadata": {},
   "source": [
    "### Write a Python program to count repeated characters in a string.\n",
    "\n",
    "Description is self-explanatory. Return a **dictionary**.\n",
    "\n",
    "Examples:\n",
    "1. `'mathematics'`\n",
    "\n",
    "Output: `{'a':2, 'c':1, 'e':1, 'h':1, 'i':1, 'm':2, 's':1, 't':2}`"
   ]
  },
  {
   "cell_type": "code",
   "execution_count": 18,
   "metadata": {},
   "outputs": [],
   "source": [
    "import collections\n",
    "def count_characters(s):\n",
    "    f = collections.Counter(s)\n",
    "    x = {}\n",
    "    for k, v in f.items():\n",
    "            x[k] = v\n",
    "    #y = dict(sorted(x.items()))\n",
    "    return x"
   ]
  },
  {
   "cell_type": "code",
   "execution_count": 19,
   "metadata": {},
   "outputs": [
    {
     "name": "stdout",
     "output_type": "stream",
     "text": [
      "{'p': 1, 'y': 2, 't': 1, 'h': 2, 'o': 1, 'n': 1, 's': 1, 'i': 1, 'k': 1, 'g': 1, 'a': 2}\n",
      "{'h': 1, 'a': 1, 'b': 1, 'r': 1, 'o': 1}\n",
      "{'p': 1, 'a': 1, 'r': 1, 't': 1, 'y': 1, 'd': 2, 'e': 2}\n"
     ]
    }
   ],
   "source": [
    "print(count_characters('pythonsikhgaya'))\n",
    "print(count_characters('habro'))\n",
    "print(count_characters('partydede'))"
   ]
  },
  {
   "cell_type": "markdown",
   "metadata": {},
   "source": [
    "#### Expected Output\n",
    "\n",
    "`{'p': 1, 'y': 2, 't': 1, 'h': 2, 'o': 1, 'n': 1, 's': 1, 'i': 1, 'k': 1, 'g': 1, 'a': 2}\n",
    "{'h': 1, 'a': 1, 'b': 1, 'r': 1, 'o': 1}\n",
    "{'p': 1, 'a': 1, 'r': 1, 't': 1, 'y': 1, 'd': 2, 'e': 2}\n",
    "`\n"
   ]
  },
  {
   "cell_type": "markdown",
   "metadata": {},
   "source": [
    "### Write a program to generate and print a dictionary that contains a number as key and value as its square.\n",
    "\n",
    "You are given a number `n`, write a program to calculate and return **dictionary** that contains key as a number and its value as a square of key, from `1` to `n`.\n",
    "\n",
    "Example: n=`3`\n",
    "\n",
    "Output: `{1:1, 2:4, 3:9}`"
   ]
  },
  {
   "cell_type": "code",
   "execution_count": 28,
   "metadata": {},
   "outputs": [],
   "source": [
    "def squared_dict(n):\n",
    "    # your code goes here\n",
    "    x = {i: i**2 for i in range(1,n+1)}\n",
    "\n",
    "    return x"
   ]
  },
  {
   "cell_type": "code",
   "execution_count": 29,
   "metadata": {},
   "outputs": [
    {
     "name": "stdout",
     "output_type": "stream",
     "text": [
      "{1: 1, 2: 4, 3: 9, 4: 16, 5: 25}\n",
      "{1: 1, 2: 4, 3: 9, 4: 16, 5: 25, 6: 36, 7: 49, 8: 64, 9: 81, 10: 100}\n",
      "{1: 1, 2: 4, 3: 9, 4: 16, 5: 25, 6: 36, 7: 49, 8: 64}\n"
     ]
    }
   ],
   "source": [
    "print(squared_dict(5))\n",
    "print(squared_dict(10))\n",
    "print(squared_dict(8))"
   ]
  },
  {
   "cell_type": "markdown",
   "metadata": {},
   "source": [
    "#### Expected Output\n",
    "`\n",
    "{1: 1, 2: 4, 3: 9, 4: 16, 5: 25}\n",
    "{1: 1, 2: 4, 3: 9, 4: 16, 5: 25, 6: 36, 7: 49, 8: 64, 9: 81, 10: 100}\n",
    "{1: 1, 2: 4, 3: 9, 4: 16, 5: 25, 6: 36, 7: 49, 8: 64}`"
   ]
  },
  {
   "cell_type": "markdown",
   "metadata": {},
   "source": [
    "### Let's harrase the tuple\n",
    "\n",
    "You are given the tuple `(a,b,c)`, write a program to output `(b**3, c + a + b, c**3)`\n",
    "\n",
    "Example: tuple = `(1, 2, 3)`\n",
    "\n",
    "Output: `(8, 6, 27)`"
   ]
  },
  {
   "cell_type": "code",
   "execution_count": 30,
   "metadata": {},
   "outputs": [],
   "source": [
    "def harrase_tuple(t):\n",
    "    # your code goes here\n",
    "    t = (t[1]**3, t[1]+t[2]+t[0], t[2]**3)\n",
    "    return t"
   ]
  },
  {
   "cell_type": "code",
   "execution_count": 31,
   "metadata": {},
   "outputs": [
    {
     "name": "stdout",
     "output_type": "stream",
     "text": [
      "(8, 6, 27)\n",
      "(125, 15, 216)\n",
      "(512, 24, 729)\n"
     ]
    }
   ],
   "source": [
    "print(harrase_tuple((1,2,3)))\n",
    "print(harrase_tuple((4,5,6)))\n",
    "print(harrase_tuple((7,8,9)))"
   ]
  },
  {
   "cell_type": "markdown",
   "metadata": {},
   "source": [
    "#### Expected Output:\n",
    "\n",
    "`(8, 6, 27)\n",
    "(125, 15, 216)\n",
    "(512, 24, 729)`"
   ]
  },
  {
   "cell_type": "markdown",
   "metadata": {},
   "source": [
    "### I hate a character in the string\n",
    "\n",
    "You are given a string `s` and a charater `ch`. You have to remove the character `ch` from `s`. Note you should maintain the sequence of other characters. If `ch` is not in `s`, return `s` itself.\n",
    "\n",
    "Example:\n",
    "\n",
    "1. s=`'abtopartydede'`, ch=`'d'`\n",
    "\n",
    "Output: `'abtopartyee'`\n",
    "\n",
    "2. s=`'world'`, ch=`'a'`\n",
    "\n",
    "Output: `'world'`"
   ]
  },
  {
   "cell_type": "code",
   "execution_count": 32,
   "metadata": {},
   "outputs": [],
   "source": [
    "def hate_char(s, c):\n",
    "    # your code goes here\n",
    "    t = \"\"\n",
    "    for ch in s:\n",
    "        if ch!=c:\n",
    "            t += ch\n",
    "\n",
    "    return t"
   ]
  },
  {
   "cell_type": "code",
   "execution_count": 33,
   "metadata": {},
   "outputs": [
    {
     "name": "stdout",
     "output_type": "stream",
     "text": [
      "abtopartyee\n",
      "paisekondega\n",
      "chalofiriltehagleassignente\n"
     ]
    }
   ],
   "source": [
    "print(hate_char('abtopartydede', 'd'))\n",
    "print(hate_char('paisekondega', 'x'))\n",
    "print(hate_char('chalofirmiltehagleassignmentme', 'm'))"
   ]
  },
  {
   "cell_type": "markdown",
   "metadata": {},
   "source": [
    "#### Expected Output\n",
    "\n",
    "`abtopartyee\n",
    "paisekondega\n",
    "chalofiriltehagleassignente`\n"
   ]
  },
  {
   "cell_type": "markdown",
   "metadata": {},
   "source": [
    "## Additional Tasks"
   ]
  },
  {
   "cell_type": "markdown",
   "metadata": {},
   "source": [
    "## I/O\n",
    "### <a href =\"https://www.w3schools.com/python/python_file_open.asp\"> small tutorial on I/O</a>"
   ]
  },
  {
   "cell_type": "markdown",
   "metadata": {},
   "source": [
    "### Here are some intresting conversations from a famous movie"
   ]
  },
  {
   "cell_type": "code",
   "execution_count": 47,
   "metadata": {},
   "outputs": [
    {
     "name": "stdout",
     "output_type": "stream",
     "text": [
      "['V', 'Evey', 'Delia Surridge', 'Valerie', 'Deitrich', 'Adam Sutler', 'Creedy', 'Lewis Prothero', \"Evey's Father\", 'Old Man', 'Finch']\n"
     ]
    }
   ],
   "source": [
    "dialogues = open('dialogues.txt')\n",
    "speakers = []\n",
    "for line in dialogues:\n",
    "    line = line.rstrip()\n",
    "    x = line.split(\":\")\n",
    "    if x[0] not in speakers:\n",
    "        if x[0] != \"\":\n",
    "            speakers.append(x[0])\n",
    "print(speakers)\n",
    "    \n",
    "    \n",
    "    \n",
    "    \n",
    "#dialogues.read()"
   ]
  },
  {
   "cell_type": "markdown",
   "metadata": {},
   "source": [
    "## Here a dialogue is seperated from the speaker by a colon :\n",
    "\n",
    "for example\n",
    "\n",
    "<b>Delia Surridge</b>: Is it meaningless to apologize?<br>\n",
    "<b>V</b>: Never.<br>\n",
    "<b>Delia Surridge</b>: I'm so sorry.\n"
   ]
  },
  {
   "cell_type": "markdown",
   "metadata": {},
   "source": [
    "### There are 2 tasks\n",
    "#### 1)To find out unique actors and store them in a seperate array called speakers\n",
    "#### 2)Then you have to create a dict called labels that maps every speaker to a list of it's dialogues"
   ]
  },
  {
   "cell_type": "markdown",
   "metadata": {},
   "source": [
    "### The required outputs are :-\n",
    "####    Task1\n",
    "\n",
    "####  `speakers=['V','Evey' ,....]`\n",
    "\n",
    "###    Task2\n",
    "\n",
    "#### `labels=`\n",
    "#### `{\"V\":[\" A man after my own heart.\", ..]`,\n",
    "#### `\"Evey\": [\"Are you like a crazy person?\",...],..}`\n"
   ]
  },
  {
   "cell_type": "code",
   "execution_count": 46,
   "metadata": {},
   "outputs": [
    {
     "name": "stdout",
     "output_type": "stream",
     "text": [
      "['V', 'Evey', 'Delia Surridge', 'Valerie', 'Deitrich', 'Adam Sutler', 'Creedy', 'Lewis Prothero', \"Evey's Father\", 'Old Man', 'Finch']\n"
     ]
    }
   ],
   "source": [
    "#your code here task 1\n",
    "import pickle\n",
    "dialogues = open('dialogues.txt')\n",
    "speakers = []\n",
    "for line in dialogues:\n",
    "    line = line.rstrip()\n",
    "    x = line.split(\":\")\n",
    "    if x[0] not in speakers:\n",
    "        if x[0] != '':\n",
    "            speakers.append(x[0])\n",
    "print(speakers)\n"
   ]
  },
  {
   "cell_type": "code",
   "execution_count": 48,
   "metadata": {},
   "outputs": [
    {
     "name": "stdout",
     "output_type": "stream",
     "text": [
      "{'V': [\" The past can't hurt you anymore, unless you let it\", ' Are you like a crazy person?', ' Is it meaningless to apologize?', ' Our integrity sells for so little, but it is all we really have. It is the very last inch of us. But within that inch, we are free.', \" It's a copy of the Qu'ran, fourteenth century.\", ' To fail is to invite doubt into everything we believe; everything that we have fought for. Doubt will plunge this country back into chaos and I will not let that happen', \" Die! Die! Why won't you die?\", ' Good guys win, bad guys lose, and as always England prevails!', ' Artists use lies to tell the truth, while politicians use them to cover the truth up.', \" If your not the sorriest piece of ass in london...then you'll certainly be the sorest.\", ' The problem is, he knows us better than we know ourselves.'], 'Evey': [\" The past can't hurt you anymore, unless you let it\", ' Are you like a crazy person?', ' Is it meaningless to apologize?', ' Our integrity sells for so little, but it is all we really have. It is the very last inch of us. But within that inch, we are free.', \" It's a copy of the Qu'ran, fourteenth century.\", ' To fail is to invite doubt into everything we believe; everything that we have fought for. Doubt will plunge this country back into chaos and I will not let that happen', \" Die! Die! Why won't you die?\", ' Good guys win, bad guys lose, and as always England prevails!', ' Artists use lies to tell the truth, while politicians use them to cover the truth up.', \" If your not the sorriest piece of ass in london...then you'll certainly be the sorest.\", ' The problem is, he knows us better than we know ourselves.'], 'Delia Surridge': [\" The past can't hurt you anymore, unless you let it\", ' Are you like a crazy person?', ' Is it meaningless to apologize?', ' Our integrity sells for so little, but it is all we really have. It is the very last inch of us. But within that inch, we are free.', \" It's a copy of the Qu'ran, fourteenth century.\", ' To fail is to invite doubt into everything we believe; everything that we have fought for. Doubt will plunge this country back into chaos and I will not let that happen', \" Die! Die! Why won't you die?\", ' Good guys win, bad guys lose, and as always England prevails!', ' Artists use lies to tell the truth, while politicians use them to cover the truth up.', \" If your not the sorriest piece of ass in london...then you'll certainly be the sorest.\", ' The problem is, he knows us better than we know ourselves.'], 'Valerie': [\" The past can't hurt you anymore, unless you let it\", ' Are you like a crazy person?', ' Is it meaningless to apologize?', ' Our integrity sells for so little, but it is all we really have. It is the very last inch of us. But within that inch, we are free.', \" It's a copy of the Qu'ran, fourteenth century.\", ' To fail is to invite doubt into everything we believe; everything that we have fought for. Doubt will plunge this country back into chaos and I will not let that happen', \" Die! Die! Why won't you die?\", ' Good guys win, bad guys lose, and as always England prevails!', ' Artists use lies to tell the truth, while politicians use them to cover the truth up.', \" If your not the sorriest piece of ass in london...then you'll certainly be the sorest.\", ' The problem is, he knows us better than we know ourselves.'], 'Deitrich': [\" The past can't hurt you anymore, unless you let it\", ' Are you like a crazy person?', ' Is it meaningless to apologize?', ' Our integrity sells for so little, but it is all we really have. It is the very last inch of us. But within that inch, we are free.', \" It's a copy of the Qu'ran, fourteenth century.\", ' To fail is to invite doubt into everything we believe; everything that we have fought for. Doubt will plunge this country back into chaos and I will not let that happen', \" Die! Die! Why won't you die?\", ' Good guys win, bad guys lose, and as always England prevails!', ' Artists use lies to tell the truth, while politicians use them to cover the truth up.', \" If your not the sorriest piece of ass in london...then you'll certainly be the sorest.\", ' The problem is, he knows us better than we know ourselves.'], 'Adam Sutler': [\" The past can't hurt you anymore, unless you let it\", ' Are you like a crazy person?', ' Is it meaningless to apologize?', ' Our integrity sells for so little, but it is all we really have. It is the very last inch of us. But within that inch, we are free.', \" It's a copy of the Qu'ran, fourteenth century.\", ' To fail is to invite doubt into everything we believe; everything that we have fought for. Doubt will plunge this country back into chaos and I will not let that happen', \" Die! Die! Why won't you die?\", ' Good guys win, bad guys lose, and as always England prevails!', ' Artists use lies to tell the truth, while politicians use them to cover the truth up.', \" If your not the sorriest piece of ass in london...then you'll certainly be the sorest.\", ' The problem is, he knows us better than we know ourselves.'], 'Creedy': [\" The past can't hurt you anymore, unless you let it\", ' Are you like a crazy person?', ' Is it meaningless to apologize?', ' Our integrity sells for so little, but it is all we really have. It is the very last inch of us. But within that inch, we are free.', \" It's a copy of the Qu'ran, fourteenth century.\", ' To fail is to invite doubt into everything we believe; everything that we have fought for. Doubt will plunge this country back into chaos and I will not let that happen', \" Die! Die! Why won't you die?\", ' Good guys win, bad guys lose, and as always England prevails!', ' Artists use lies to tell the truth, while politicians use them to cover the truth up.', \" If your not the sorriest piece of ass in london...then you'll certainly be the sorest.\", ' The problem is, he knows us better than we know ourselves.'], 'Lewis Prothero': [\" The past can't hurt you anymore, unless you let it\", ' Are you like a crazy person?', ' Is it meaningless to apologize?', ' Our integrity sells for so little, but it is all we really have. It is the very last inch of us. But within that inch, we are free.', \" It's a copy of the Qu'ran, fourteenth century.\", ' To fail is to invite doubt into everything we believe; everything that we have fought for. Doubt will plunge this country back into chaos and I will not let that happen', \" Die! Die! Why won't you die?\", ' Good guys win, bad guys lose, and as always England prevails!', ' Artists use lies to tell the truth, while politicians use them to cover the truth up.', \" If your not the sorriest piece of ass in london...then you'll certainly be the sorest.\", ' The problem is, he knows us better than we know ourselves.'], \"Evey's Father\": [\" The past can't hurt you anymore, unless you let it\", ' Are you like a crazy person?', ' Is it meaningless to apologize?', ' Our integrity sells for so little, but it is all we really have. It is the very last inch of us. But within that inch, we are free.', \" It's a copy of the Qu'ran, fourteenth century.\", ' To fail is to invite doubt into everything we believe; everything that we have fought for. Doubt will plunge this country back into chaos and I will not let that happen', \" Die! Die! Why won't you die?\", ' Good guys win, bad guys lose, and as always England prevails!', ' Artists use lies to tell the truth, while politicians use them to cover the truth up.', \" If your not the sorriest piece of ass in london...then you'll certainly be the sorest.\", ' The problem is, he knows us better than we know ourselves.'], 'Old Man': [\" The past can't hurt you anymore, unless you let it\", ' Are you like a crazy person?', ' Is it meaningless to apologize?', ' Our integrity sells for so little, but it is all we really have. It is the very last inch of us. But within that inch, we are free.', \" It's a copy of the Qu'ran, fourteenth century.\", ' To fail is to invite doubt into everything we believe; everything that we have fought for. Doubt will plunge this country back into chaos and I will not let that happen', \" Die! Die! Why won't you die?\", ' Good guys win, bad guys lose, and as always England prevails!', ' Artists use lies to tell the truth, while politicians use them to cover the truth up.', \" If your not the sorriest piece of ass in london...then you'll certainly be the sorest.\", ' The problem is, he knows us better than we know ourselves.'], 'Finch': [\" The past can't hurt you anymore, unless you let it\", ' Are you like a crazy person?', ' Is it meaningless to apologize?', ' Our integrity sells for so little, but it is all we really have. It is the very last inch of us. But within that inch, we are free.', \" It's a copy of the Qu'ran, fourteenth century.\", ' To fail is to invite doubt into everything we believe; everything that we have fought for. Doubt will plunge this country back into chaos and I will not let that happen', \" Die! Die! Why won't you die?\", ' Good guys win, bad guys lose, and as always England prevails!', ' Artists use lies to tell the truth, while politicians use them to cover the truth up.', \" If your not the sorriest piece of ass in london...then you'll certainly be the sorest.\", ' The problem is, he knows us better than we know ourselves.']}\n"
     ]
    }
   ],
   "source": [
    "#your code here task 2\n",
    "dialogues = open('dialogues.txt')\n",
    "speakers = []\n",
    "dialogue = []\n",
    "y = {}\n",
    "for line in dialogues:\n",
    "    line = line.rstrip()\n",
    "    x = line.split(\":\")\n",
    "    if x[0] not in speakers:\n",
    "        if x[0] != '':\n",
    "            speakers.append(x[0])\n",
    "            dialogue.append(x[1])\n",
    "            y.update({x[0]: dialogue})\n",
    "print(y)"
   ]
  },
  {
   "cell_type": "code",
   "execution_count": 49,
   "metadata": {},
   "outputs": [
    {
     "ename": "NameError",
     "evalue": "name 'pickle' is not defined",
     "output_type": "error",
     "traceback": [
      "\u001b[1;31m---------------------------------------------------------------------------\u001b[0m",
      "\u001b[1;31mNameError\u001b[0m                                 Traceback (most recent call last)",
      "\u001b[1;32m<ipython-input-49-0780da3f2a78>\u001b[0m in \u001b[0;36m<module>\u001b[1;34m\u001b[0m\n\u001b[1;32m----> 1\u001b[1;33m \u001b[0mpickle\u001b[0m\u001b[1;33m.\u001b[0m\u001b[0mdump\u001b[0m\u001b[1;33m(\u001b[0m\u001b[0mlabels\u001b[0m\u001b[1;33m,\u001b[0m \u001b[0mopen\u001b[0m\u001b[1;33m(\u001b[0m \u001b[1;34m\"labels.p\"\u001b[0m\u001b[1;33m,\u001b[0m \u001b[1;34m\"wb\"\u001b[0m \u001b[1;33m)\u001b[0m \u001b[1;33m)\u001b[0m\u001b[1;33m\u001b[0m\u001b[1;33m\u001b[0m\u001b[0m\n\u001b[0m\u001b[0;32m      2\u001b[0m \u001b[0mdialogues\u001b[0m\u001b[1;33m.\u001b[0m\u001b[0mclose\u001b[0m\u001b[1;33m(\u001b[0m\u001b[1;33m)\u001b[0m\u001b[1;33m\u001b[0m\u001b[1;33m\u001b[0m\u001b[0m\n",
      "\u001b[1;31mNameError\u001b[0m: name 'pickle' is not defined"
     ]
    }
   ],
   "source": [
    "pickle.dump(labels, open( \"labels.p\", \"wb\" ) )\n",
    "dialogues.close()"
   ]
  },
  {
   "cell_type": "markdown",
   "metadata": {},
   "source": [
    "### Last task (phew xD)\n",
    "#### There is matrix called as matrix defined below"
   ]
  },
  {
   "cell_type": "code",
   "execution_count": 50,
   "metadata": {},
   "outputs": [
    {
     "ename": "NameError",
     "evalue": "name 'pickle' is not defined",
     "output_type": "error",
     "traceback": [
      "\u001b[1;31m---------------------------------------------------------------------------\u001b[0m",
      "\u001b[1;31mNameError\u001b[0m                                 Traceback (most recent call last)",
      "\u001b[1;32m<ipython-input-50-781b32ce0ada>\u001b[0m in \u001b[0;36m<module>\u001b[1;34m\u001b[0m\n\u001b[1;32m----> 1\u001b[1;33m \u001b[0mmatrix\u001b[0m \u001b[1;33m=\u001b[0m  \u001b[0mpickle\u001b[0m\u001b[1;33m.\u001b[0m\u001b[0mload\u001b[0m\u001b[1;33m(\u001b[0m \u001b[0mopen\u001b[0m\u001b[1;33m(\u001b[0m \u001b[1;34m\"assign_mat.p\"\u001b[0m\u001b[1;33m,\u001b[0m \u001b[1;34m\"rb\"\u001b[0m \u001b[1;33m)\u001b[0m \u001b[1;33m)\u001b[0m\u001b[1;33m\u001b[0m\u001b[1;33m\u001b[0m\u001b[0m\n\u001b[0m",
      "\u001b[1;31mNameError\u001b[0m: name 'pickle' is not defined"
     ]
    }
   ],
   "source": [
    "matrix =  pickle.load( open( \"assign_mat.p\", \"rb\" ) )"
   ]
  },
  {
   "cell_type": "code",
   "execution_count": 51,
   "metadata": {},
   "outputs": [
    {
     "ename": "NameError",
     "evalue": "name 'matrix' is not defined",
     "output_type": "error",
     "traceback": [
      "\u001b[1;31m---------------------------------------------------------------------------\u001b[0m",
      "\u001b[1;31mNameError\u001b[0m                                 Traceback (most recent call last)",
      "\u001b[1;32m<ipython-input-51-36a5fe1d79ae>\u001b[0m in \u001b[0;36m<module>\u001b[1;34m\u001b[0m\n\u001b[1;32m----> 1\u001b[1;33m \u001b[0mmatrix\u001b[0m\u001b[1;33m\u001b[0m\u001b[1;33m\u001b[0m\u001b[0m\n\u001b[0m",
      "\u001b[1;31mNameError\u001b[0m: name 'matrix' is not defined"
     ]
    }
   ],
   "source": [
    "matrix"
   ]
  },
  {
   "cell_type": "markdown",
   "metadata": {},
   "source": [
    "### <p>For each row in the matrix i an element s is defined as maximum of matrix[i],you have to output a second matrix B which is defined as  </p>\n",
    "\n",
    "#### <p> s is also known as l∞ </p>\n",
    "\n",
    "### <strong>B[i] = matrix[i]/s</strong>\n",
    "\n",
    "#### Hence compute  B "
   ]
  },
  {
   "cell_type": "code",
   "execution_count": 9,
   "metadata": {},
   "outputs": [],
   "source": [
    "#your code here \n",
    "#remember to keep the output matrix as B"
   ]
  },
  {
   "cell_type": "code",
   "execution_count": null,
   "metadata": {},
   "outputs": [],
   "source": [
    "out_matrix = B\n",
    "pickle.dump(out_matrix, open( \"out_matrix.p\", \"wb\" ) )"
   ]
  }
 ],
 "metadata": {
  "kernelspec": {
   "display_name": "Python 3",
   "language": "python",
   "name": "python3"
  },
  "language_info": {
   "codemirror_mode": {
    "name": "ipython",
    "version": 3
   },
   "file_extension": ".py",
   "mimetype": "text/x-python",
   "name": "python",
   "nbconvert_exporter": "python",
   "pygments_lexer": "ipython3",
   "version": "3.7.6"
  }
 },
 "nbformat": 4,
 "nbformat_minor": 2
}
