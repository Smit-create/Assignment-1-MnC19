{
 "cells": [
  {
   "cell_type": "markdown",
   "metadata": {},
   "source": [
    "# MnC-19\n",
    "## Get Ready for the Python Tour!"
   ]
  },
  {
   "cell_type": "markdown",
   "metadata": {},
   "source": [
    "# Assignment-1 Python\n"
   ]
  },
  {
   "cell_type": "markdown",
   "metadata": {},
   "source": [
    "This is the first assignment on basic python!\n",
    "<br> But before we go forward, let's first talk about **IPython** is.\n",
    "<ol>\n",
    "    <li> <strong>Python</strong> - an interpreted programming language written by Guido Van Rossum.</li>\n",
    "    <li> <strong>IPython</strong> - an interactive shell for python. This just means that it is an alternative way to interact with python. It offers a lot more features than the default python shell which you can explore online. Some of these include code autocompletion, object inspection etc.</li>\n",
    "    <li> <strong>Ipython Notebook</strong> - built on top of IPython, it is graphical user interface to IPython. In it you can add a lot of stuff apart from just code: things like graphs, plots, responsive elements. Moreoever it runs on a web interface, like your web browser.</li>\n",
    "    <li> <strong>Jupyter Notebook</strong> It is an upgrade to the IPython notebook built to be language independent and offer support for other languages. It's python variant is what you are probably using right now!</li>\n"
   ]
  },
  {
   "cell_type": "markdown",
   "metadata": {},
   "source": [
    "Now let us look at a few things which you can do with Jupyter:\n",
    "<br> These individual text containers are called cells. They make up a Jupyter notebook!"
   ]
  },
  {
   "cell_type": "code",
   "execution_count": null,
   "metadata": {},
   "outputs": [],
   "source": [
    "#This is a code cell, these can produce output cells if you produce an output in your code.\n",
    "#For example:\n",
    "print(\"Hello World! (This is an output cell. The code cell above produces this output cell)\")"
   ]
  },
  {
   "cell_type": "markdown",
   "metadata": {},
   "source": [
    "Things you can add to a jupyter notebook:\n",
    "\n",
    "1. Latex (It is a widely used type-setting language you can use to add mathematical equations to your notebook)\n",
    "\n",
    "<strong><center>[This is a markdown cell -> double-click this cell to see the code behind it; click \"Run\" to run it again]</center></strong>\n",
    "\n",
    "\\begin{equation*}\n",
    "\\left( \\sum_{k=1}^n a_k b_k \\right)^2 \\leq \\left( \\sum_{k=1}^n a_k^2 \\right) \\left( \\sum_{k=1}^n b_k^2 \\right)\n",
    "\\end{equation*}\n"
   ]
  },
  {
   "cell_type": "markdown",
   "metadata": {},
   "source": [
    "\n",
    "2. You can add graphs! Don't worry about the code now, it is just simple code to add a graph!"
   ]
  },
  {
   "cell_type": "code",
   "execution_count": 13,
   "metadata": {},
   "outputs": [
    {
     "data": {
      "image/png": "[encoded data removed]",
      "text/plain": [
       "<Figure size 432x288 with 1 Axes>"
      ]
     },
     "metadata": {
      "needs_background": "light"
     },
     "output_type": "display_data"
    }
   ],
   "source": [
    "# Just a simple code cell to draw a graph in the output cell!\n",
    "import numpy as np\n",
    "import matplotlib.pyplot as plt\n",
    "import pickle\n",
    "x = np.linspace(1,100,1000)\n",
    "plt.plot(x,np.log(x))\n",
    "plt.title(\"y=log(x)\")\n",
    "plt.show()"
   ]
  },
  {
   "cell_type": "markdown",
   "metadata": {},
   "source": [
    "3. You can add HTML too!"
   ]
  },
  {
   "cell_type": "code",
   "execution_count": null,
   "metadata": {},
   "outputs": [],
   "source": [
    "%%HTML\n",
    "<html>\n",
    "<marquee><h1> This is an html page</h1></marquee>\n",
    "</html>"
   ]
  },
  {
   "cell_type": "markdown",
   "metadata": {},
   "source": [
    "There are many more things that you'll learn along the way!\n",
    "<br> Now let's get to Python!\n",
    "<br> Some of the problems below have a solution attached to it which can be opened by **single-clicking** on the the <font color=green>green text! </font>\n",
    "<br><font color=maroon><strong>But please try to code the solutions yourself first. The solutions are mostly one-liners which will teach you how to write concise and useful code and some extra features of python. Again, the solutions have been written to use things that you might not know and hence learn. But please try to write  the code yourself first</strong></font>"
   ]
  },
  {
   "cell_type": "markdown",
   "metadata": {},
   "source": [
    "## Simple Arithmetic\n",
    "Some available operators : $+,-,/,//,\\%,**$"
   ]
  },
  {
   "cell_type": "markdown",
   "metadata": {},
   "source": [
    "### $**$ Operator for exponentiation\n"
   ]
  },
  {
   "cell_type": "code",
   "execution_count": null,
   "metadata": {},
   "outputs": [],
   "source": [
    "a = 5; b = 2\n",
    "print(a**b)"
   ]
  },
  {
   "cell_type": "markdown",
   "metadata": {},
   "source": [
    "### Difference between '/' and '//'"
   ]
  },
  {
   "cell_type": "code",
   "execution_count": null,
   "metadata": {},
   "outputs": [],
   "source": [
    "a = 7; b = 2\n",
    "print(a/b)  #Normal division\n",
    "print(a//b) #Integral division. rounds off the quotient to the nearest integer less than the ans"
   ]
  },
  {
   "cell_type": "markdown",
   "metadata": {},
   "source": [
    "<strong><h3>Ques: Given a number n, find the sum of squares of all its divisors</h3></strong>\n",
    "<br> Eg: if n=6, $answer = 1^2 + 2^2 + 3^2 +6^2 = 50$"
   ]
  },
  {
   "cell_type": "code",
   "execution_count": null,
   "metadata": {},
   "outputs": [],
   "source": [
    "def sum_of_squares_of_divisors(n):\n",
    "    ans=0\n",
    "    #write your code here\n",
    "    \n",
    "    return(ans)"
   ]
  },
  {
   "cell_type": "markdown",
   "metadata": {},
   "source": [
    "Test your code here:"
   ]
  },
  {
   "cell_type": "code",
   "execution_count": null,
   "metadata": {},
   "outputs": [],
   "source": [
    "print(sum_of_squares_of_divisors(6))\n",
    "# Expected Answer = 50\n",
    "print(sum_of_squares_of_divisors(1023))\n",
    "# Expected Answer = 1173640\n",
    "print(sum_of_squares_of_divisors(1021))\n",
    "# Expected Answer = 1042442"
   ]
  },
  {
   "cell_type": "markdown",
   "metadata": {},
   "source": [
    "### Ques: Given a string s, check if it is a palindrome\n",
    "A string s is a palindrome if it reads the same way forwards and backwards, return True or False\n",
    "<br> For eg: ABCBA and ABCCBA are both palindromes\n",
    "<br> ABCDE is not"
   ]
  },
  {
   "cell_type": "code",
   "execution_count": null,
   "metadata": {},
   "outputs": [],
   "source": [
    "def Is_palindrome(s):\n",
    "    #Write your code here\n",
    "    \n",
    "    return False"
   ]
  },
  {
   "cell_type": "markdown",
   "metadata": {},
   "source": [
    "Check your code here:"
   ]
  },
  {
   "cell_type": "code",
   "execution_count": null,
   "metadata": {},
   "outputs": [],
   "source": [
    "print(Is_palindrome('hello'))\n",
    "# ANS- False\n",
    "print(Is_palindrome('helleh'))\n",
    "# ANS- True"
   ]
  },
  {
   "cell_type": "markdown",
   "metadata": {},
   "source": [
    "\n",
    "<details>\n",
    "    <summary><h4 style=\"color:green\">Try yourself first! [Click here] to see solution!</h4></summary>\n",
    "<p>\n",
    "\n",
    "The shortest way to do the above is:\n",
    "\n",
    "```python\n",
    "    def Is_palindrome(s):\n",
    "        return s == s[::-1]\n",
    "```\n",
    "To learn more: https://www.geeksforgeeks.org/string-slicing-in-python/\n",
    "</p>\n",
    "</details>  \n"
   ]
  },
  {
   "cell_type": "markdown",
   "metadata": {},
   "source": [
    "### Ques: Given two lists of integers of the same length, return a 3rd list containing pair-wise maximum of elements in the same indices in both the lists.\n",
    "For eg, if $a=\\{a_{1},a_{2},a_{3},a_{4}...a_{n}\\}$\n",
    "and $b=\\{b_{1},b_{2},b_{3},b_{4}...b_{n}\\}$\n",
    "<br> $answer : c=\\{max(a_{1},b_{1}),max(a_{1},b_{1}),max(a_{1},b_{1}),...,max(a_{n},b_{n})\\}$"
   ]
  },
  {
   "cell_type": "code",
   "execution_count": null,
   "metadata": {},
   "outputs": [],
   "source": [
    "def pairwise_max_of_two_lists(list1,list2):\n",
    "    ans=[]\n",
    "    # Your code here\n",
    "    return ans"
   ]
  },
  {
   "cell_type": "markdown",
   "metadata": {},
   "source": [
    "Check your code here:"
   ]
  },
  {
   "cell_type": "code",
   "execution_count": null,
   "metadata": {},
   "outputs": [],
   "source": [
    "print(pairwise_max_of_two_list([2,18],[1,50]))\n",
    "#Answer: [2, 50]\n",
    "print(pairwise_max_of_two_list([15,2,18],[14,7,15]))\n",
    "#Answer: [15, 7, 18]\n",
    "print(pairwise_max_of_two_list([0,2,180,432],[2,1,500,2311]))\n",
    "#Answer: [2, 2, 500, 2311]"
   ]
  },
  {
   "cell_type": "markdown",
   "metadata": {},
   "source": [
    "\n",
    "<details>\n",
    "    <summary><h4 style=\"color:green\">Try yourself first! [Click here] to see solution!</h4></summary>\n",
    "<p>\n",
    "\n",
    "The shortest way to do the above is:\n",
    "\n",
    "```python\n",
    "    def pairwise_max_of_two_lists(list1,list2):\n",
    "        return [max(a,b) for a,b in zip(list1,list2)]\n",
    "```\n",
    "To learn more: \n",
    "<br> Zip function - https://www.programiz.com/python-programming/methods/built-in/zip\n",
    "<br> List comprehension - https://www.programiz.com/python-programming/list-comprehension\n",
    "</p>\n",
    "</details>  \n"
   ]
  },
  {
   "cell_type": "markdown",
   "metadata": {},
   "source": [
    "### Ques: Given a sentence in a string 's', reverse all of its words individually\n",
    "<br> For eg:\n",
    "<br>**Input**: 'this is a sample sentence'\n",
    "<br>**Output**: 'siht si a elpmas .ecnetnes'"
   ]
  },
  {
   "cell_type": "code",
   "execution_count": null,
   "metadata": {},
   "outputs": [],
   "source": [
    "def reverse_sentence_wordwise(s):\n",
    "    ans = ''\n",
    "    # Your code here\n",
    "    \n",
    "    return ans"
   ]
  },
  {
   "cell_type": "markdown",
   "metadata": {},
   "source": [
    "Check your code here:"
   ]
  },
  {
   "cell_type": "code",
   "execution_count": null,
   "metadata": {},
   "outputs": [],
   "source": [
    "print(reverse_sentence_wordwise('siht si a elpmas .ecnetnes'))\n",
    "# Answer - 'this is a sample sentence.'\n",
    "print(reverse_sentence_wordwise('CnM si retteb naht ESC'))\n",
    "# Answer - find out yourself xD"
   ]
  },
  {
   "cell_type": "markdown",
   "metadata": {},
   "source": [
    "\n",
    "<details>\n",
    "    <summary><h4 style=\"color:green\">Try yourself first! [Click here] to see solution!</h4></summary>\n",
    "<p>\n",
    "\n",
    "The shortest way to do the above is:\n",
    "\n",
    "```python\n",
    "    def reverse_sentence_wordwise(s):\n",
    "        return ' '.join(word[::-1] for word in s.split(' '))\n",
    "```\n",
    "To learn more: \n",
    "<br> Split and Join : https://www.pitt.edu/~naraehan/python3/split_join.html\n",
    "</p>\n",
    "</details>  \n"
   ]
  },
  {
   "cell_type": "markdown",
   "metadata": {},
   "source": [
    "Some more questions:"
   ]
  },
  {
   "cell_type": "markdown",
   "metadata": {},
   "source": [
    "### Write a Python program to check if an integer is the power of another integer.\n",
    "\n",
    "In other words, given two inputs, `a` and `b`, write a program to check if we can obtain `a` from b<sup>x</sup>, where `x` is some positive integer.\n",
    "\n",
    "Examples:\n",
    "1. 16, 2 : `True`\n",
    "2. 28, 8 : `False`"
   ]
  },
  {
   "cell_type": "code",
   "execution_count": null,
   "metadata": {},
   "outputs": [],
   "source": [
    "def int_pow_check(...):\n",
    "    # your code goes here"
   ]
  },
  {
   "cell_type": "code",
   "execution_count": null,
   "metadata": {},
   "outputs": [],
   "source": [
    "int_pow_check(16, 2), int_pow_check(12, 3)"
   ]
  },
  {
   "cell_type": "markdown",
   "metadata": {},
   "source": [
    "#### Expected output:\n",
    "\n",
    "`(True, False)`"
   ]
  },
  {
   "cell_type": "markdown",
   "metadata": {},
   "source": [
    "###  Write a Python program to find missing numbers from a list\n",
    "\n",
    "You are given a list L, which consists of natural numbers and an integer `bound`. Write a program to find all the missing numbers from the list L in the range `[1, bound]`.\n",
    "\n",
    "Examples:\n",
    "1. L=`[1,2,3,4,6,7]`, bound=`7`\n",
    "\n",
    "Output: `[5]`\n",
    "\n",
    "2. L=`[3,4,7,8]`, bound=`9`\n",
    "\n",
    "Output: `[1,2,5,6,9]`"
   ]
  },
  {
   "cell_type": "code",
   "execution_count": null,
   "metadata": {},
   "outputs": [],
   "source": [
    "def find_missing(...):\n",
    "    # your code goes here"
   ]
  },
  {
   "cell_type": "code",
   "execution_count": null,
   "metadata": {},
   "outputs": [],
   "source": [
    "print(find_missing([2,3,4,6], 9))\n",
    "print(find_missing([1,2,3,4,6,7], 7))\n",
    "print(find_missing([2,3], 5))"
   ]
  },
  {
   "cell_type": "markdown",
   "metadata": {},
   "source": [
    "#### Expected Output:\n",
    "\n",
    "`[1,5,7,8,9]\n",
    "[5]\n",
    "[1,4,5]`"
   ]
  },
  {
   "cell_type": "markdown",
   "metadata": {},
   "source": [
    "### Write a Python program to count repeated characters in a string.\n",
    "\n",
    "Description is self-explanatory. Return a **dictionary**.\n",
    "\n",
    "Examples:\n",
    "1. `'mathematics'`\n",
    "\n",
    "Output: `{'a':2, 'c':1, 'e':1, 'h':1, 'i':1, 'm':2, 's':1, 't':2}`"
   ]
  },
  {
   "cell_type": "code",
   "execution_count": null,
   "metadata": {},
   "outputs": [],
   "source": [
    "def count_characters(..):\n",
    "    # your code goes here\n"
   ]
  },
  {
   "cell_type": "code",
   "execution_count": null,
   "metadata": {},
   "outputs": [],
   "source": [
    "print(count_characters('pythonsikhgaya'))\n",
    "print(count_characters('habro'))\n",
    "print(count_characters('partydede'))"
   ]
  },
  {
   "cell_type": "markdown",
   "metadata": {},
   "source": [
    "#### Expected Output\n",
    "\n",
    "`{'p': 1, 'y': 2, 't': 1, 'h': 2, 'o': 1, 'n': 1, 's': 1, 'i': 1, 'k': 1, 'g': 1, 'a': 2}\n",
    "{'h': 1, 'a': 1, 'b': 1, 'r': 1, 'o': 1}\n",
    "{'p': 1, 'a': 1, 'r': 1, 't': 1, 'y': 1, 'd': 2, 'e': 2}\n",
    "`\n"
   ]
  },
  {
   "cell_type": "markdown",
   "metadata": {},
   "source": [
    "### Write a program to generate and print a dictionary that contains a number as key and value as its square.\n",
    "\n",
    "You are given a number `n`, write a program to calculate and return **dictionary** that contains key as a number and its value as a square of key, from `1` to `n`.\n",
    "\n",
    "Example: n=`3`\n",
    "\n",
    "Output: `{1:1, 2:4, 3:9}`"
   ]
  },
  {
   "cell_type": "code",
   "execution_count": null,
   "metadata": {},
   "outputs": [],
   "source": [
    "def squared_dict(...):\n",
    "    # your code goes here"
   ]
  },
  {
   "cell_type": "code",
   "execution_count": null,
   "metadata": {},
   "outputs": [],
   "source": [
    "print(squared_dict(5))\n",
    "print(squared_dict(10))\n",
    "print(squared_dict(8))"
   ]
  },
  {
   "cell_type": "markdown",
   "metadata": {},
   "source": [
    "#### Expected Output\n",
    "`\n",
    "{1: 1, 2: 4, 3: 9, 4: 16, 5: 25}\n",
    "{1: 1, 2: 4, 3: 9, 4: 16, 5: 25, 6: 36, 7: 49, 8: 64, 9: 81, 10: 100}\n",
    "{1: 1, 2: 4, 3: 9, 4: 16, 5: 25, 6: 36, 7: 49, 8: 64}`"
   ]
  },
  {
   "cell_type": "markdown",
   "metadata": {},
   "source": [
    "### Let's harrase the tuple\n",
    "\n",
    "You are given the tuple `(a,b,c)`, write a program to output `(b**3, c + a + b, c**3)`\n",
    "\n",
    "Example: tuple = `(1, 2, 3)`\n",
    "\n",
    "Output: `(8, 6, 27)`"
   ]
  },
  {
   "cell_type": "code",
   "execution_count": null,
   "metadata": {},
   "outputs": [],
   "source": [
    "def harrase_tuple(...):\n",
    "    # your code goes here"
   ]
  },
  {
   "cell_type": "code",
   "execution_count": null,
   "metadata": {},
   "outputs": [],
   "source": [
    "print(harrase_tuple((1,2,3)))\n",
    "print(harrase_tuple((4,5,6)))\n",
    "print(harrase_tuple((7,8,9)))"
   ]
  },
  {
   "cell_type": "markdown",
   "metadata": {},
   "source": [
    "#### Expected Output:\n",
    "\n",
    "`(8, 6, 27)\n",
    "(125, 15, 216)\n",
    "(512, 24, 729)`"
   ]
  },
  {
   "cell_type": "markdown",
   "metadata": {},
   "source": [
    "### I hate a character in the string\n",
    "\n",
    "You are given a string `s` and a charater `ch`. You have to remove the character `ch` from `s`. Note you should maintain the sequence of other characters. If `ch` is not in `s`, return `s` itself.\n",
    "\n",
    "Example:\n",
    "\n",
    "1. s=`'abtopartydede'`, ch=`'d'`\n",
    "\n",
    "Output: `'abtopartyee'`\n",
    "\n",
    "2. s=`'world'`, ch=`'a'`\n",
    "\n",
    "Output: `'world'`"
   ]
  },
  {
   "cell_type": "code",
   "execution_count": null,
   "metadata": {},
   "outputs": [],
   "source": [
    "def hate_char(..):\n",
    "    # your code goes here\n"
   ]
  },
  {
   "cell_type": "code",
   "execution_count": null,
   "metadata": {},
   "outputs": [],
   "source": [
    "print(hate_char('abtopartydede', 'd'))\n",
    "print(hate_char('paisekondega', 'x'))\n",
    "print(hate_char('chalofirmiltehagleassignmentme', 'm'))"
   ]
  },
  {
   "cell_type": "markdown",
   "metadata": {},
   "source": [
    "#### Expected Output\n",
    "\n",
    "`abtopartyee\n",
    "paisekondega\n",
    "chalofiriltehagleassignente`\n"
   ]
  },
  {
   "cell_type": "markdown",
   "metadata": {},
   "source": [
    "## Additional Tasks"
   ]
  },
  {
   "cell_type": "markdown",
   "metadata": {},
   "source": [
    "## I/O\n",
    "### <a href =\"https://www.w3schools.com/python/python_file_open.asp\"> small tutorial on I/O</a>"
   ]
  },
  {
   "cell_type": "markdown",
   "metadata": {},
   "source": [
    "### Here are some intresting conversations from a famous movie"
   ]
  },
  {
   "cell_type": "code",
   "execution_count": 10,
   "metadata": {},
   "outputs": [
    {
     "name": "stdout",
     "output_type": "stream",
     "text": [
      "V: The past can't hurt you anymore, unless you let it\n",
      "\n",
      "V: The past can't hurt you anymore, unless you let it.\n",
      "\n",
      "\n",
      "\n",
      "V: Beneath this mask there is more than flesh, Beneath this mask there is an idea, Mr. Creedy, and ideas are bulletproof.\n",
      "\n",
      "V: Beneath this mask there is more than flesh. Beneath this mask there is an idea, Mr. Creedy, and ideas are bulletproof.\n",
      "\n",
      "\n",
      "\n",
      "V: A revolution without dancing is a revolution not worth having.\n",
      "\n",
      "\n",
      "\n",
      "Evey: Are you like a crazy person?\n",
      "\n",
      "V: I am quite sure they will say so.\n",
      "\n",
      "\n",
      "\n",
      "V: A man after my own heart.\n",
      "\n",
      "\n",
      "\n",
      "V: There are no coincidences, only the illusion of coincidences\n",
      "\n",
      "V: There are no coincidences, only the illusion of coincidences.\n",
      "\n",
      "\n",
      "\n",
      "V: People should not be afraid of their goverment,goverment should be afraid of their people\n",
      "\n",
      "V: People should not be afraid of their government, government should be afraid of their people.\n",
      "\n",
      "\n",
      "\n",
      "V: The only verdict is vengeance a vendetta\n",
      "\n",
      "V: The only verdict is vengeance a vendetta.\n",
      "\n",
      "\n",
      "\n",
      "V: People should not be afraid of their governments. Governments should be afraid of their people.\n",
      "\n",
      "\n",
      "\n",
      "Evey: No one will ever forget that night and what it meant for this country. But I will never forget the man and what he meant to me.\n",
      "\n",
      "\n",
      "\n",
      "Evey: We are told to remember the idea, not the man, because a man can fail. He can be caught, he can be killed and forgotten, but 400 years later, an idea can still change the world.\n",
      "\n",
      "\n",
      "\n",
      "Delia Surridge: Is it meaningless to apologize?\n",
      "\n",
      "V: Never.\n",
      "\n",
      "Delia Surridge: I'm so sorry.\n",
      "\n",
      "\n",
      "\n",
      "V: There is no certainty, only opportunity.\n",
      "\n",
      "\n",
      "\n",
      "V: People should not be afraid of their governments. Governments should be afraid of their people.\n",
      "\n",
      "\n",
      "\n",
      "Evey: Remember, remember, the Fifth of November, the Gunpowder Treason and Plot. I know of no reason why the Gunpowder Treason should ever be forgot... But what of the man? I know his name was Guy Fawkes and I know, in 1605, he attempted to blow up the Houses of Parliament. But who was he really? What was he like? We are told to remember the idea, not the man, because a man can fail. He can be caught, he can be killed and forgotten, but 400 years later, an idea can still change the world. I've witnessed first hand the power of ideas, I've seen people kill in the name of them, and die defending them... but you cannot kiss an idea, cannot touch it, or hold it... ideas do not bleed, they do not feel pain, they do not love... And it is not an idea that I miss, it is a man... A man that made me remember the Fifth of November. A man that I will never forget.\n",
      "\n",
      "\n",
      "\n",
      "V: V: Remember, remember, the Fifth of November, the Gunpowder Treason and Plot. I know of no reason why the Gunpowder Treason should ever be forgot.\n",
      "\n",
      "\n",
      "\n",
      "V: \"There is no certainty, only opportunity.\"\n",
      "\n",
      "V: There is no certainty, only opportunity.\n",
      "\n",
      "\n",
      "\n",
      "V: Beneath this mask there is more than flesh Mr Creedy. Beneath this mask there is an idea. And ideas are bulletproof.\n",
      "\n",
      "\n",
      "\n",
      "Valerie: Our integrity sells for so little, but it is all we really have. It is the very last inch of us. But within that inch, we are free.\n",
      "\n",
      "\n",
      "\n",
      "V: A building is a symbol, as is the act of destroying it. Symbols are given power by people. Alone, a symbol is meaningless, but with enough people, blowing up a building can change the world.\n",
      "\n",
      "\n",
      "\n",
      "V: It is to Madame Justice that I dedicate this concerto, in honor of the holiday that she seems to have taken from these parts, and in recognition of the impostor that stands in her stead.\n",
      "\n",
      "\n",
      "\n",
      "V: I do, like many of you, appreciate the comforts of every day routine- the security of the familiar, the tranquility of repetition. I enjoy them as much as any bloke.\n",
      "\n",
      "\n",
      "\n",
      "V: People should not be afraid of their governments. Governments should be afraid of their people.\n",
      "\n",
      "\n",
      "\n",
      "Evey: My father was a writer. You would've liked him. He used to say that artists use lies to tell the truth, while politicians use them to cover the truth up.\n",
      "\n",
      "\n",
      "\n",
      "Evey: No one will ever forget that night and what it meant for this country. But I will never forget the man and what he meant to me.\n",
      "\n",
      "\n",
      "\n",
      "V: A building is a symbol, as is the act of destroying it. Symbols are given power by people. Alone, a symbol is meaningless, but with enough people, blowing up a building can change the world.\n",
      "\n",
      "\n",
      "\n",
      "V: Voilà! In view, a humble vaudevillian veteran, cast vicariously as both victim and villain by the vicissitudes of Fate. This visage, no mere veneer of vanity, is a vestige of the vox populi, now vacant, vanished. However, this valorous visitation of a by-gone vexation, stands vivified and has vowed to vanquish these venal and virulent vermin vanguarding vice and vouchsafing the violently vicious and voracious violation of volition. [carves \"V\" into poster on wall] The only verdict is vengeance; a vendetta, held as a votive, not in vain, for the value and veracity of such shall one day vindicate the vigilant and the virtuous. Verily, this vichyssoise of verbiage veers most verbose, so let me simply add that it's my very good honor to meet you and you may call me V.\n",
      "\n",
      "V: Voilà! In view, a humble vaudevillian veteran, cast vicariously as both victim and villain by the vicissitudes of Fate. This visage, no mere veneer of vanity, is a vestige of the vox populi, now vacant, vanished. However, this valorous visitation of a by-gone vexation, stands vivified and has vowed to vanquish these venal and virulent vermin vanguarding vice and vouchsafing the violently vicious and voracious violation of volition. [carves 'V' into poster on wall] The only verdict is vengeance; a vendetta, held as a votive, not in vain, for the value and veracity of such shall one day vindicate the vigilant and the virtuous. Verily, this vichyssoise of verbiage veers most verbose, so let me simply add that it's my very good honor to meet you and you may call me V.\n",
      "\n",
      "\n",
      "\n",
      "V: People should not be afraid of their governments. Governments should be afraid of their people.\n",
      "\n",
      "\n",
      "\n",
      "Evey: What's that?\n",
      "\n",
      "Deitrich: It's a copy of the Qu'ran, fourteenth century.\n",
      "\n",
      "Evey: Are you a muslim?\n",
      "\n",
      "Deitrich: No, I'm in television\n",
      "\n",
      "Deitrich: No, I'm in television.\n",
      "\n",
      "\n",
      "\n",
      "Deitrich: Gordon please, I don't need mister to make this body feel any older.\n",
      "\n",
      "\n",
      "\n",
      "Adam Sutler: To fail is to invite doubt into everything we believe; everything that we have fought for. Doubt will plunge this country back into chaos and I will not let that happen\n",
      "\n",
      "Adam Sutler: To fail is to invite doubt into everything we believe; everything that we have fought for. Doubt will plunge this country back into chaos and I will not let that happen.\n",
      "\n",
      "Adam Sutler: England prevails\n",
      "\n",
      "Adam Sutler: England prevails.\n",
      "\n",
      "\n",
      "\n",
      "Creedy: Die! Die! Why won't you die?\n",
      "\n",
      "V: Beneath this mask there is more than flesh Mr Creedy.\n",
      "\n",
      "V: Beneath this mask there is an idea. And ideas are bulletproof.\n",
      "\n",
      "\n",
      "\n",
      "V: Remember remember the fifth of November/The Gunpowder Treason and plot....I see of no reason that the Gunpowder treason should ever be forgot.\n",
      "\n",
      "V: Remember, remember, the Fifth of November, the Gunpowder Treason and Plot. I know of no reason why the Gunpowder Treason should ever be forgot.\n",
      "\n",
      "\n",
      "\n",
      "Evey: \"...artists use lies to tell the truth while politicians use them to cover the truth up.\"\n",
      "\n",
      "Evey: Artists use lies to tell the truth while politicians use them to cover the truth up.\n",
      "\n",
      "\n",
      "\n",
      "V: \"The building is a symbol, as is the act of destroying it. Symbols are given power by people. Alone a symbol is meaningless, but with enough people, blowing up a building can change the world.\"\n",
      "\n",
      "V: The building is a symbol, as is the act of destroying it. Symbols are given power by people. Alone a symbol is meaningless, but with enough people, blowing up a building can change the world.\n",
      "\n",
      "\n",
      "\n",
      "V: What was done to me created me. It's a basic principle of the universe that every action causes an equal and opposing reaction.\n",
      "\n",
      "Evey: Is that really how you look at it? Like an equation...?\n",
      "\n",
      "V: What was done to me was monstrous!\n",
      "\n",
      "Evey: And it created a monster...\n",
      "\n",
      "\n",
      "\n",
      "V: Would you... dance with me?\n",
      "\n",
      "Evey: Now? On the eve of your revolution?\n",
      "\n",
      "V: A revolution without dancing is a revolution not worth having!\n",
      "\n",
      "\n",
      "\n",
      "V: People shouldn't be afraid of their governments. Governments should be afraid of their people.\n",
      "\n",
      "\n",
      "\n",
      "V: ... But on this most auspicious of nights, permit me then, in lieu of the more commonplace sobriquet, to suggest the character of this dramatis persona. Voila! In view, a humble vaudevillian veteran, cast vicariously as both victim and villain by the vicissitudes of Fate. This visage, no mere veneer of vanity, is a vestige of the vox populi, now vacant, vanished. However, this valorous visitation of a by-gone vexation, stands vivified!!!! and has vowed to vanquish these venal and virulent vermin van-guarding vice and vouchsafing the violently vicious and voracious violation of volition! The only verdict is vengeance; a vendetta, held as a votive, not in vain, for the value and veracity of such shall one day vindicate the vigilant and the virtuous. Verily, this vichyssoise of verbiage veers most verbose, so let me simply add that it is my very good honor to meet you and you may call me V. HA!!!!\n",
      "\n",
      "\n",
      "\n",
      "Valerie: It is strange that my life should end in such a terrible place, but for three years I had roses and apologized to nobody. I shall die here. Every inch of me shall perish... Except one. An inch. It is small and fragile and it's the only thing in the world that's worth having. We must never lose it or sell it or give it away. We must never let them take it from us. I don't know who you are but I hope you escape this place. I hope that the world turns and things get better and that one day people have roses again. I don't know who you are but I love you. I love you.\n",
      "\n",
      "\n",
      "\n",
      "V: Happiness is the most insidious prison of all, Evey.\n",
      "\n",
      "\n",
      "\n",
      "Evey: Who -- Who are you?\n",
      "\n",
      "V: VoilÃ ! In view, a humble vaudevillian veteran, cast vicariously as both victim and villain by the vicissitudes of Fate. This visage, no mere veneer of vanity, is a vestige of the vox populi, now vacant, vanished. However, this valorous visitation of a by-gone vexation, stands vivified, and has vowed to vanquish these venal and virulent vermin van-guarding vice and vouchsafing the violently vicious and voracious violation of volition. The only verdict is vengeance; a vendetta, held as a votive, not in vain, for the value and veracity of such shall one day vindicate the vigilant and the virtuous. Verily, this vichyssoise of verbiage veers most verbose, so let me simply add that it is my very good honor to meet you and you may call me V. And you would be?\n",
      "\n",
      "V: Voila! In view, a humble vaudevillian veteran, cast vicariously as both victim and villain by the vicissitudes of Fate. This visage, no mere veneer of vanity, is a vestige of the vox populi, now vacant, vanished. However, this valorous visitation of a by-gone vexation, stands vivified, and has vowed to vanquish these venal and virulent vermin van-guarding vice and vouchsafing the violently vicious and voracious violation of volition. The only verdict is vengeance; a vendetta, held as a votive, not in vain, for the value and veracity of such shall one day vindicate the vigilant and the virtuous. Verily, this vichyssoise of verbiage veers most verbose, so let me simply add that it is my very good honor to meet you and you may call me V. And you would be?\n",
      "\n",
      "\n",
      "\n",
      "V: The multiplying villainies of nature do swarm upon him. And fortune, on his damned quarrel, smiling, showed like a rebel's whore. Disdaining fortune with his brandished steel, which smoked with bloody execution.\n",
      "\n",
      "\n",
      "\n",
      "V: A revolution without dancing is a revolution not worth having.\n",
      "\n",
      "\n",
      "\n",
      "Lewis Prothero: Good guys win, bad guys lose, and as always England prevails!\n",
      "\n",
      "\n",
      "\n",
      "Deitrich: You wear a mask for so long you forget who you were beneath it.\n",
      "\n",
      "\n",
      "\n",
      "Evey's Father: Artists use lies to tell the truth, while politicians use them to cover the truth up.\n",
      "\n",
      "Evey's Father: He used to say that artists use lies to tell the truth, while politicians use them to cover the truth up\n",
      "\n",
      "\n",
      "\n",
      "V: There are no certainties only opportunities\n",
      "\n",
      "V: There's no certainty - only opportunity.\n",
      "\n",
      "\n",
      "\n",
      "V: Remember remember the fifth of November the gun powder treason and plot. I know of no reason why the gun powder treason should ever be forgot\n",
      "\n",
      "V: Remember, the Fifth of November, the Gunpowder Treason and Plot . I know of no reason why the Gunpowder Treason should ever be forgot.\n",
      "\n",
      "\n",
      "\n",
      "Creedy: Die! Die! Why won't you die? Why won't you die?\n",
      "\n",
      "V: Beneath this mask there is more than flesh. Beneath this mask is an idea Mr. Creedy...and ideas are bulletproof.\n",
      "\n",
      "V: Beneath this mask there is more than flesh. Beneath this mask is an idea Mr. Creedy, and ideas are bulletproof.\n",
      "\n",
      "\n",
      "\n",
      "Old Man: If your not the sorriest piece of ass in london...then you'll certainly be the sorest.\n",
      "\n",
      "Old Man: If you're not the sorriest piece of ass in london... then you'll certainly be the sorest.\n",
      "\n",
      "\n",
      "\n",
      "V: People should not be afraid of their governments. Governments should be afraid of their people.\n",
      "\n",
      "\n",
      "\n",
      "Valerie: I know there's no way I can convince you this is not one of their tricks, but I don't care, I am me. My name is Valerie, I don't think I'll live much longer and I wanted to tell someone about my life. This is the only autobiography ill ever write, and god, I'm writing it on toilet paper. I was born in Nottingham in 1985, I don't remember much of those early years, but I do remember the rain. My grandmother owned a farm in Tuttlebrook, and she use to tell me that god was in the rain. I passed my 11th lesson into girl's grammar; it was at school that I met my first girlfriend, her name was Sara. It was her wrists. They were beautiful. I thought we would love each other forever. I remember our teacher telling us that is was an adolescent phase people outgrew. Sara did, I didn't. In 2002 I fell in love with a girl named Christina. That year I came out to my parents. I couldn't have done it without Chris holding my hand. My father wouldn't look at me, he told me to go and never come back. My mother said nothing. But I had only told them the truth, was that so selfish? Our integrity sells for so little, but it is all we really have. It is the very last inch of us, but within that inch, we are free. I'd always known what I wanted to do with my life, and in 2015 I starred in my first film, \"The Salt Flats\". It was the most important role of my life, not because of my career, but because that was how I met Ruth. The first time we kissed, I knew I never wanted to kiss any other lips but hers again. We moved to a small flat in London together. She grew Scarlet Carsons for me in our window box, and our place always smelled of roses. Those were there best years of my life. But America's war grew worse, and worse. And eventually came to London. After that there were no roses anymore. Not for anyone. I remember how the meaning of words began to change. How unfamiliar words like collateral and rendition became frightening. While things like Norse Fire and The Articles of Allegiance became powerful, I remember how different became dangerous. I still don't understand it, why they hate us so much. They took Ruth while she was out buying food. I've never cried so hard in my life. It wasn't long till they came for me.It seems strange that my life should end in such a terrible place, but for three years, I had roses, and apologized to no one. I shall die here. Every inch of me shall perish. Every inch, but one. An Inch, it is small and it is fragile, but it is the only thing the world worth having. We must never lose it or give it away. We must never let them take it from us. I hope that whoever you are, you escape this place. I hope that the world turns and that things get better. But what I hope most of all is that you understand what I mean when I tell you that even though I do not know you, and even though I may never meet you, laugh with you, cry with you, or kiss you. I love you. With all my heart, I love you. -Valerie\n",
      "\n",
      "Valerie: I know there's no way I can convince you this is not one of their tricks, but I don't care, I am me. My name is Valerie, I don't think I'll live much longer and I wanted to tell someone about my life. This is the only autobiography ill ever write, and god, I'm writing it on toilet paper. I was born in Nottingham in 1985, I don't remember much of those early years, but I do remember the rain. My grandmother owned a farm in Tuttlebrook, and she use to tell me that god was in the rain. I passed my 11th lesson into girl's grammar; it was at school that I met my first girlfriend, her name was Sara. It was her wrists. They were beautiful. I thought we would love each other forever. I remember our teacher telling us that is was an adolescent phase people outgrew. Sara did, I didn't. In 2002 I fell in love with a girl named Christina. That year I came out to my parents. I couldn't have done it without Chris holding my hand. My father wouldn't look at me, he told me to go and never come back. My mother said nothing. But I had only told them the truth, was that so selfish? Our integrity sells for so little, but it is all we really have. It is the very last inch of us, but within that inch, we are free. I'd always known what I wanted to do with my life, and in 2015 I starred in my first film, 'The Salt Flats'. It was the most important role of my life, not because of my career, but because that was how I met Ruth. The first time we kissed, I knew I never wanted to kiss any other lips but hers again. We moved to a small flat in London together. She grew Scarlet Carsons for me in our window box, and our place always smelled of roses. Those were there best years of my life. But America's war grew worse, and worse. And eventually came to London. After that there were no roses anymore. Not for anyone. I remember how the meaning of words began to change. How unfamiliar words like collateral and rendition became frightening. While things like Norse Fire and The Articles of Allegiance became powerful, I remember how different became dangerous. I still don't understand it, why they hate us so much. They took Ruth while she was out buying food. I've never cried so hard in my life. It wasn't long till they came for me.It seems strange that my life should end in such a terrible place, but for three years, I had roses, and apologized to no one. I shall die here. Every inch of me shall perish. Every inch, but one. An Inch, it is small and it is fragile, but it is the only thing the world worth having. We must never lose it or give it away. We must never let them take it from us. I hope that whoever you are, you escape this place. I hope that the world turns and that things get better. But what I hope most of all is that you understand what I mean when I tell you that even though I do not know you, and even though I may never meet you, laugh with you, cry with you, or kiss you. I love you. With all my heart, I love you.\n",
      "\n",
      "\n",
      "\n",
      "Valerie: I hope that whoever you are, you escape this place. I hope that the world turns and that things get better.\n",
      "\n",
      "\n",
      "\n",
      "Valerie: Every inch of me shall perish. Every inch, but one. An Inch, it is small and it is fragile, but it is the only thing the world worth having. We must never lose it or give it away. We must never let them take it from us.\n",
      "\n",
      "\n",
      "\n",
      "Valerie: I remember how different became dangerous.\n",
      "\n",
      "\n",
      "\n",
      "Evey: No one will ever forget that night and what it meant for this country. But I will never forget the man and what he meant to me.\n",
      "\n",
      "\n",
      "\n",
      "Deitrich: You wear a mask for so long, you forget who you were beneath it.\n",
      "\n",
      "\n",
      "\n",
      "Finch: The problem is, he knows us better than we know ourselves.\n",
      "\n",
      "\n",
      "\n",
      "Valerie: But what I hope most of all is that you understand what I mean when I tell you that, even though I do not know you, and even though I may never meet you, laugh with you, cry with you, or kiss you, I love you. With all my heart, I love you.\n",
      "\n",
      "\n",
      "\n",
      "V: What was done to me was monstrous.\n",
      "\n",
      "Evey: And they created a monster.\n",
      "\n",
      "\n",
      "\n",
      "Evey: God is in the rain.\n",
      "\n",
      "\n",
      "\n",
      "V: Your powers of observation continue to serve you well.\n",
      "\n",
      "\n",
      "\n",
      "Evey: He was Edmond Dantes. And he was my father, and my mother, my brother, my friend. He was you, and me. He was all of us.\n",
      "\n"
     ]
    }
   ],
   "source": [
    "dialogues = open('dialogues.txt')\n",
    "for i in dialogues:\n",
    "    print(i)\n",
    "#dialogues.read()"
   ]
  },
  {
   "cell_type": "markdown",
   "metadata": {},
   "source": [
    "## Here a dialogue is seperated from the speaker by a colon :\n",
    "\n",
    "for example\n",
    "\n",
    "<b>Delia Surridge</b>: Is it meaningless to apologize?<br>\n",
    "<b>V</b>: Never.<br>\n",
    "<b>Delia Surridge</b>: I'm so sorry.\n"
   ]
  },
  {
   "cell_type": "markdown",
   "metadata": {},
   "source": [
    "### There are 2 tasks\n",
    "#### 1)To find out unique actors and store them in a seperate array called speakers\n",
    "#### 2)Then you have to create a dict called labels that maps every speaker to a list of it's dialogues"
   ]
  },
  {
   "cell_type": "markdown",
   "metadata": {},
   "source": [
    "### The required outputs are :-\n",
    "####    Task1\n",
    "\n",
    "####  `speakers=['V','Evey' ,....]`\n",
    "\n",
    "###    Task2\n",
    "\n",
    "#### `labels=`\n",
    "#### `{\"V\":[\" A man after my own heart.\", ..]`,\n",
    "#### `\"Evey\": [\"Are you like a crazy person?\",...],..}`\n"
   ]
  },
  {
   "cell_type": "code",
   "execution_count": null,
   "metadata": {},
   "outputs": [],
   "source": [
    "#your code here task 1"
   ]
  },
  {
   "cell_type": "code",
   "execution_count": null,
   "metadata": {},
   "outputs": [],
   "source": [
    "#your code here task 2"
   ]
  },
  {
   "cell_type": "code",
   "execution_count": null,
   "metadata": {},
   "outputs": [],
   "source": [
    "pickle.dump(labels, open( \"labels.p\", \"wb\" ) )\n",
    "dialogues.close()"
   ]
  },
  {
   "cell_type": "markdown",
   "metadata": {},
   "source": [
    "### Last task (phew xD)\n",
    "#### There is matrix called as matrix defined below"
   ]
  },
  {
   "cell_type": "code",
   "execution_count": null,
   "metadata": {},
   "outputs": [],
   "source": [
    "matrix =  pickle.load( open( \"assign_mat.p\", \"rb\" ) )"
   ]
  },
  {
   "cell_type": "code",
   "execution_count": null,
   "metadata": {},
   "outputs": [],
   "source": [
    "matrix"
   ]
  },
  {
   "cell_type": "markdown",
   "metadata": {},
   "source": [
    "### <p>For each row in the matrix i an element s is defined as maximum of matrix[i],you have to output a second matrix B which is defined as  </p>\n",
    "\n",
    "#### <p> s is also known as l∞ </p>\n",
    "\n",
    "### <strong>B[i] = matrix[i]/s</strong>\n",
    "\n",
    "#### Hence compute  B "
   ]
  },
  {
   "cell_type": "code",
   "execution_count": 9,
   "metadata": {},
   "outputs": [],
   "source": [
    "#your code here \n",
    "#remember to keep the output matrix as B"
   ]
  },
  {
   "cell_type": "code",
   "execution_count": null,
   "metadata": {},
   "outputs": [],
   "source": [
    "out_matrix = B\n",
    "pickle.dump(out_matrix, open( \"out_matrix.p\", \"wb\" ) )"
   ]
  }
 ],
 "metadata": {
  "kernelspec": {
   "display_name": "Python 3",
   "language": "python",
   "name": "python3"
  },
  "language_info": {
   "codemirror_mode": {
    "name": "ipython",
    "version": 3
   },
   "file_extension": ".py",
   "mimetype": "text/x-python",
   "name": "python",
   "nbconvert_exporter": "python",
   "pygments_lexer": "ipython3",
   "version": "3.7.6"
  }
 },
 "nbformat": 4,
 "nbformat_minor": 2
}
